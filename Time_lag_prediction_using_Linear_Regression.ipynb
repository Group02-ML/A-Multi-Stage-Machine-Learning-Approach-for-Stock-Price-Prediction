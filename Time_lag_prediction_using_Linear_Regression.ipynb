{
 "cells": [
  {
   "cell_type": "code",
   "execution_count": 1,
   "id": "630f8487",
   "metadata": {},
   "outputs": [
    {
     "data": {
      "text/html": [
       "<div>\n",
       "<style scoped>\n",
       "    .dataframe tbody tr th:only-of-type {\n",
       "        vertical-align: middle;\n",
       "    }\n",
       "\n",
       "    .dataframe tbody tr th {\n",
       "        vertical-align: top;\n",
       "    }\n",
       "\n",
       "    .dataframe thead th {\n",
       "        text-align: right;\n",
       "    }\n",
       "</style>\n",
       "<table border=\"1\" class=\"dataframe\">\n",
       "  <thead>\n",
       "    <tr style=\"text-align: right;\">\n",
       "      <th></th>\n",
       "      <th>Day</th>\n",
       "      <th>High</th>\n",
       "      <th>Low</th>\n",
       "      <th>Close</th>\n",
       "      <th>No. of Trades</th>\n",
       "      <th>No. of Shares</th>\n",
       "      <th>Turnover(Rs.)</th>\n",
       "    </tr>\n",
       "  </thead>\n",
       "  <tbody>\n",
       "    <tr>\n",
       "      <th>0</th>\n",
       "      <td>1/3/2022</td>\n",
       "      <td>153.25</td>\n",
       "      <td>149.0</td>\n",
       "      <td>152.75</td>\n",
       "      <td>321</td>\n",
       "      <td>799594</td>\n",
       "      <td>121924661</td>\n",
       "    </tr>\n",
       "    <tr>\n",
       "      <th>1</th>\n",
       "      <td>1/4/2022</td>\n",
       "      <td>153.25</td>\n",
       "      <td>149.0</td>\n",
       "      <td>149.50</td>\n",
       "      <td>177</td>\n",
       "      <td>317312</td>\n",
       "      <td>47828320</td>\n",
       "    </tr>\n",
       "    <tr>\n",
       "      <th>2</th>\n",
       "      <td>1/5/2022</td>\n",
       "      <td>151.75</td>\n",
       "      <td>147.0</td>\n",
       "      <td>150.75</td>\n",
       "      <td>232</td>\n",
       "      <td>1557752</td>\n",
       "      <td>234256848</td>\n",
       "    </tr>\n",
       "    <tr>\n",
       "      <th>3</th>\n",
       "      <td>1/6/2022</td>\n",
       "      <td>152.00</td>\n",
       "      <td>148.5</td>\n",
       "      <td>151.00</td>\n",
       "      <td>189</td>\n",
       "      <td>318537</td>\n",
       "      <td>47954695</td>\n",
       "    </tr>\n",
       "    <tr>\n",
       "      <th>4</th>\n",
       "      <td>1/7/2022</td>\n",
       "      <td>158.25</td>\n",
       "      <td>150.0</td>\n",
       "      <td>155.50</td>\n",
       "      <td>627</td>\n",
       "      <td>3343693</td>\n",
       "      <td>512681469</td>\n",
       "    </tr>\n",
       "  </tbody>\n",
       "</table>\n",
       "</div>"
      ],
      "text/plain": [
       "        Day    High    Low   Close  No. of Trades  No. of Shares  \\\n",
       "0  1/3/2022  153.25  149.0  152.75            321         799594   \n",
       "1  1/4/2022  153.25  149.0  149.50            177         317312   \n",
       "2  1/5/2022  151.75  147.0  150.75            232        1557752   \n",
       "3  1/6/2022  152.00  148.5  151.00            189         318537   \n",
       "4  1/7/2022  158.25  150.0  155.50            627        3343693   \n",
       "\n",
       "   Turnover(Rs.)  \n",
       "0      121924661  \n",
       "1       47828320  \n",
       "2      234256848  \n",
       "3       47954695  \n",
       "4      512681469  "
      ]
     },
     "execution_count": 1,
     "metadata": {},
     "output_type": "execute_result"
    }
   ],
   "source": [
    "import pandas as pd\n",
    "\n",
    "# Load the dataset from the CSV file\n",
    "\n",
    "data = pd.read_csv(\"JKH 2022-2023.csv\")\n",
    "data.head()\n",
    "\n",
    "# data1 = pd.read_csv(\"Abans 2022-2023.csv\")\n",
    "# data1.head()\n",
    "\n",
    "# data = data1.loc[5195:]\n",
    "# data.head()"
   ]
  },
  {
   "cell_type": "code",
   "execution_count": 2,
   "id": "0d2ab6ce",
   "metadata": {},
   "outputs": [
    {
     "data": {
      "text/plain": [
       "Index(['Day', 'High', 'Low', 'Close', 'No. of Trades', 'No. of Shares',\n",
       "       'Turnover(Rs.)'],\n",
       "      dtype='object')"
      ]
     },
     "execution_count": 2,
     "metadata": {},
     "output_type": "execute_result"
    }
   ],
   "source": [
    "data.columns"
   ]
  },
  {
   "cell_type": "code",
   "execution_count": 3,
   "id": "3cac0760",
   "metadata": {},
   "outputs": [
    {
     "name": "stdout",
     "output_type": "stream",
     "text": [
      "<class 'pandas.core.frame.DataFrame'>\n",
      "RangeIndex: 293 entries, 0 to 292\n",
      "Data columns (total 7 columns):\n",
      " #   Column         Non-Null Count  Dtype  \n",
      "---  ------         --------------  -----  \n",
      " 0   Day            293 non-null    object \n",
      " 1   High           293 non-null    float64\n",
      " 2   Low            293 non-null    float64\n",
      " 3   Close          293 non-null    float64\n",
      " 4   No. of Trades  293 non-null    float64\n",
      " 5   No. of Shares  293 non-null    int64  \n",
      " 6   Turnover(Rs.)  293 non-null    int64  \n",
      "dtypes: float64(4), int64(2), object(1)\n",
      "memory usage: 16.1+ KB\n"
     ]
    }
   ],
   "source": [
    "# df['High'] = df['High'].astype(float)\n",
    "# df['Low'] = df['Low'].astype(float)\n",
    "data['No. of Trades'] = data['No. of Trades'].astype(float)\n",
    "data.info()"
   ]
  },
  {
   "cell_type": "code",
   "execution_count": 4,
   "id": "fb4613b2",
   "metadata": {},
   "outputs": [
    {
     "name": "stdout",
     "output_type": "stream",
     "text": [
      "         Day    High    Low   Close  No. of Trades  No. of Shares  \\\n",
      "0  1/21/2022  162.00  159.0  161.00          295.0        1209974   \n",
      "1  1/24/2022  163.75  161.0  162.00          359.0       80657771   \n",
      "2  1/25/2022  163.00  160.0  160.50          245.0         192701   \n",
      "3  1/26/2022  161.00  159.0  160.25          214.0         302664   \n",
      "4  1/27/2022  164.75  159.5  160.75          436.0         552876   \n",
      "\n",
      "   Turnover(Rs.)   lag_1   lag_2   lag_3   lag_4   lag_5   lag_6   lag_7  \\\n",
      "0      193742443  162.00  162.75  163.75  163.25  157.00  157.50  157.00   \n",
      "1    12986725898  161.00  162.00  162.75  163.75  163.25  157.00  157.50   \n",
      "2       30993507  162.00  161.00  162.00  162.75  163.75  163.25  157.00   \n",
      "3       48562316  160.50  162.00  161.00  162.00  162.75  163.75  163.25   \n",
      "4       89257535  160.25  160.50  162.00  161.00  162.00  162.75  163.75   \n",
      "\n",
      "    lag_8  lag_9  lag_10  lag_11  lag_12  \n",
      "0  155.50  151.0  150.75  149.50  152.75  \n",
      "1  157.00  155.5  151.00  150.75  149.50  \n",
      "2  157.50  157.0  155.50  151.00  150.75  \n",
      "3  157.00  157.5  157.00  155.50  151.00  \n",
      "4  163.25  157.0  157.50  157.00  155.50  \n"
     ]
    }
   ],
   "source": [
    "\n",
    "# Define a function to generate the supervised dataset with lag features\n",
    "def generate_supervised(data):\n",
    "    supervised_df = data.copy()\n",
    "    \n",
    "    # Create lag columns for the \"Closing\" column\n",
    "    for i in range(1, 13):\n",
    "        col_name = 'lag_' + str(i)\n",
    "        supervised_df[col_name] = supervised_df['Close'].shift(i)\n",
    "    \n",
    "    # Drop rows with NaN values\n",
    "    supervised_df = supervised_df.dropna().reset_index(drop=True)\n",
    "    \n",
    "    return supervised_df\n",
    "\n",
    "# Generate the supervised dataset\n",
    "supervised_df = generate_supervised(data)\n",
    "\n",
    "# Save the resulting DataFrame to a new CSV file\n",
    "supervised_df.to_csv(\"lagged_data.csv\", index=False)\n",
    "\n",
    "# Check the first few rows of the resulting DataFrame\n",
    "print(supervised_df.head())\n",
    "\n"
   ]
  },
  {
   "cell_type": "code",
   "execution_count": 5,
   "id": "2944fbe0",
   "metadata": {},
   "outputs": [
    {
     "name": "stdout",
     "output_type": "stream",
     "text": [
      "Mean Squared Error: 0.4377578204519188\n",
      "         Date  Predicted_Closing\n",
      "0  2023-04-03         143.763037\n",
      "1  2023-04-04         144.270907\n",
      "2  2023-04-05         144.862930\n",
      "3  2023-04-06         144.797807\n",
      "4  2023-04-07         144.372165\n",
      "5  2023-04-10         143.993628\n",
      "6  2023-04-11         143.646900\n",
      "7  2023-04-12         142.926869\n",
      "8  2023-04-13         140.820145\n",
      "9  2023-04-14         141.542415\n",
      "10 2023-04-17         140.668162\n",
      "11 2023-04-18         140.249945\n"
     ]
    }
   ],
   "source": [
    "import pandas as pd\n",
    "from sklearn.model_selection import train_test_split\n",
    "from sklearn.linear_model import LinearRegression\n",
    "from sklearn.metrics import mean_squared_error\n",
    "import numpy as np\n",
    "\n",
    "# Load the dataset with lag features\n",
    "data = pd.read_csv(\"lagged_data.csv\")\n",
    "\n",
    "# Define the target variable (y) and the input features (X)\n",
    "y = data['Close']\n",
    "X = data.drop(['Day', 'Close'], axis=1)\n",
    "\n",
    "# Split the dataset into training and testing sets\n",
    "X_train, X_test, y_train, y_test = train_test_split(X, y, test_size=0.1, shuffle=False)\n",
    "\n",
    "# Create and train a Linear Regression model\n",
    "model = LinearRegression()\n",
    "model.fit(X_train, y_train)\n",
    "\n",
    "# Make predictions on the test set\n",
    "y_pred = model.predict(X_test)\n",
    "\n",
    "# Calculate and print the Mean Squared Error (MSE) to evaluate the model's performance\n",
    "mse = mean_squared_error(y_test, y_pred)\n",
    "print(\"Mean Squared Error:\", mse)\n",
    "\n",
    "# Predict the stock price for future dates (e.g., 2023-04-01 to 2023-04-12)\n",
    "future_dates = pd.date_range(start=\"2023-04-01\", periods=12, freq='B')\n",
    "future_features = X[-12:]  # Get the last 12 rows of features\n",
    "future_predictions = model.predict(future_features)\n",
    "\n",
    "# Create a DataFrame to store future predictions\n",
    "future_df = pd.DataFrame({'Date': future_dates, 'Predicted_Closing': future_predictions})\n",
    "\n",
    "# Print the future predictions\n",
    "print(future_df)"
   ]
  },
  {
   "cell_type": "code",
   "execution_count": 6,
   "id": "e9d0c87e",
   "metadata": {},
   "outputs": [
    {
     "data": {
      "image/png": "[encoded data removed]",
      "text/plain": [
       "<Figure size 864x432 with 1 Axes>"
      ]
     },
     "metadata": {
      "needs_background": "light"
     },
     "output_type": "display_data"
    }
   ],
   "source": [
    "import numpy as np\n",
    "import matplotlib.pyplot as plt\n",
    "\n",
    "# Plot the real values (y_test) against the predicted values (y_pred)\n",
    "plt.figure(figsize=(12, 6))\n",
    "plt.plot(y_test.index, y_test.values, label='Real Closing Prices', marker='o')\n",
    "plt.plot(y_test.index, y_pred, label='Predicted Closing Prices', marker='x')\n",
    "plt.title(\"Real vs. Predicted Closing Prices\")\n",
    "plt.xlabel(\"Date\")\n",
    "plt.ylabel(\"Closing Price\")\n",
    "plt.legend()\n",
    "plt.grid(True)\n",
    "plt.show()"
   ]
  },
  {
   "cell_type": "code",
   "execution_count": 7,
   "id": "68c44c5d",
   "metadata": {},
   "outputs": [
    {
     "name": "stdout",
     "output_type": "stream",
     "text": [
      "R-squared (r2): 0.9463859428404903\n",
      "Mean Squared Error (MSE): 0.4377578204519188\n",
      "Mean Absolute Percentage Error (MAPE): 0.3779453119885099\n"
     ]
    }
   ],
   "source": [
    "from sklearn.metrics import r2_score, mean_squared_error, mean_absolute_error\n",
    "import numpy as np\n",
    "\n",
    "# Calculate R-squared (r2)\n",
    "r2 = r2_score(y_test, y_pred)\n",
    "print(\"R-squared (r2):\", r2)\n",
    "\n",
    "# Calculate Mean Squared Error (MSE)\n",
    "mse = mean_squared_error(y_test, y_pred)\n",
    "print(\"Mean Squared Error (MSE):\", mse)\n",
    "\n",
    "# Calculate Mean Absolute Percentage Error (MAPE)\n",
    "def mean_absolute_percentage_error(y_true, y_pred):\n",
    "    y_true, y_pred = np.array(y_true), np.array(y_pred)\n",
    "    return np.mean(np.abs((y_true - y_pred) / y_true)) * 100\n",
    "\n",
    "mape = mean_absolute_percentage_error(y_test, y_pred)\n",
    "print(\"Mean Absolute Percentage Error (MAPE):\", mape)\n"
   ]
  },
  {
   "cell_type": "code",
   "execution_count": 8,
   "id": "6b6f6e3e",
   "metadata": {},
   "outputs": [],
   "source": [
    "# 0.2\n",
    "# R-squared (r2): 0.9478375859049327\n",
    "# Mean Squared Error (MSE): 0.47973285779353114\n",
    "# Mean Absolute Percentage Error (MAPE): 0.37592486406064546"
   ]
  },
  {
   "cell_type": "code",
   "execution_count": null,
   "id": "e7f8b659",
   "metadata": {},
   "outputs": [],
   "source": []
  }
 ],
 "metadata": {
  "kernelspec": {
   "display_name": "Python 3 (ipykernel)",
   "language": "python",
   "name": "python3"
  },
  "language_info": {
   "codemirror_mode": {
    "name": "ipython",
    "version": 3
   },
   "file_extension": ".py",
   "mimetype": "text/x-python",
   "name": "python",
   "nbconvert_exporter": "python",
   "pygments_lexer": "ipython3",
   "version": "3.9.12"
  }
 },
 "nbformat": 4,
 "nbformat_minor": 5
}
